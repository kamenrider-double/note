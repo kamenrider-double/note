{
 "cells": [
  {
   "cell_type": "markdown",
   "id": "00e4aaf2",
   "metadata": {
    "vscode": {
     "languageId": "restructuredtext"
    }
   },
   "source": [
    "# 자료형"
   ]
  },
  {
   "cell_type": "code",
   "execution_count": null,
   "id": "3e2a9e9b",
   "metadata": {
    "vscode": {
     "languageId": "java"
    }
   },
   "outputs": [],
   "source": [
    "int a=1\n",
    "printlin(a);\n"
   ]
  },
  {
   "cell_type": "markdown",
   "id": "8fbf1353",
   "metadata": {
    "vscode": {
     "languageId": "plaintext"
    }
   },
   "source": [
    "\n",
    "## 정수\n",
    "\n",
    "|타입|할당 되는 메모리|저장 가능한 범위|기타 사항|\n",
    "|----|\n",
    "|byte|1byte|-128~127|───|\n",
    "|short|2byte|-32,768~32,767|───|\n",
    "|int|4byte|-2,147,483,648~2,147,483,647|───|\n",
    "|long|8byte|-9,223,372,036,854,775,808~9,223,372,036,854,775,807|───|"
   ]
  },
  {
   "cell_type": "markdown",
   "id": "53575fe2",
   "metadata": {},
   "source": [
    "# 함수"
   ]
  },
  {
   "cell_type": "code",
   "execution_count": null,
   "id": "14846c88",
   "metadata": {
    "vscode": {
     "languageId": "java"
    }
   },
   "outputs": [],
   "source": []
  }
 ],
 "metadata": {
  "language_info": {
   "name": "python"
  }
 },
 "nbformat": 4,
 "nbformat_minor": 5
}
