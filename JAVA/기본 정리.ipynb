{
 "cells": [
  {
   "cell_type": "markdown",
   "id": "71a8ea80",
   "metadata": {},
   "source": [
    "# 기본"
   ]
  },
  {
   "cell_type": "markdown",
   "id": "da897198",
   "metadata": {
    "vscode": {
     "languageId": "plaintext"
    }
   },
   "source": [
    "뭐든 기본이 탄탄해야 자신의 기반을 잃지 않을테니 스스로도 잊지 않기 위해 정리."
   ]
  },
  {
   "cell_type": "markdown",
   "id": "0c241eec",
   "metadata": {},
   "source": [
    "## 자료형"
   ]
  },
  {
   "cell_type": "markdown",
   "id": "67e05d86",
   "metadata": {
    "vscode": {
     "languageId": "plaintext"
    }
   },
   "source": [
    "### 정수\n",
    "\n",
    "|타입|할당 되는 메모리|저장 가능한 범위|기타 사항|\n",
    "|----|:----:|----|:----:|\n",
    "|byte|1byte|-128~127|/|\n",
    "|short|2byte|-32,768~32,767|/|\n",
    "|int|4byte|-2,147,483,648~2,147,483,647|/|\n",
    "|long|8byte|-9,223,372,036,854,775,808~9,223,372,036,854,775,807|/|"
   ]
  },
  {
   "cell_type": "markdown",
   "id": "c4aeb89c",
   "metadata": {},
   "source": [
    "### 실수\n",
    "|타입|할당 되는 메모리|저장 가능한 범위|기타 사항|\n",
    "|----|:----:|----|:----:|\n",
    "|float|4byte|1.4E-45~3.4E38|정밀도 7자리|\n",
    "|double|8byte|4.9E-324~1.8E308|정밀도 15자리|"
   ]
  },
  {
   "cell_type": "markdown",
   "id": "c02b01ec",
   "metadata": {},
   "source": [
    "### 문자형\n",
    "|타입|할당 되는 메모리|저장 가능한 범위|기타 사항|\n",
    "|----|:----:|----|:----:|\n",
    "|char|2byte|하나의 문장|/|"
   ]
  },
  {
   "cell_type": "markdown",
   "id": "b27ead55",
   "metadata": {},
   "source": [
    "### 논리형\n",
    "|타입|할당 되는 메모리|저장 가능한 범위|기타 사항|\n",
    "|----|:----:|----|:----:|\n",
    "|boolean|1byte미만|true or false|/|"
   ]
  },
  {
   "cell_type": "markdown",
   "id": "8ad7d88f",
   "metadata": {},
   "source": [
    "<br>\n",
    "\n",
    "---"
   ]
  },
  {
   "cell_type": "markdown",
   "id": "cd951c13",
   "metadata": {},
   "source": [
    "## 연산자"
   ]
  },
  {
   "cell_type": "markdown",
   "id": "c986c9b2",
   "metadata": {},
   "source": [
    "### 사칙연산자"
   ]
  },
  {
   "cell_type": "code",
   "execution_count": null,
   "id": "d94235e2",
   "metadata": {
    "vscode": {
     "languageId": "java"
    }
   },
   "outputs": [],
   "source": [
    "int addtion=5+6;\n",
    "printlin(\"더하기\");\n",
    "printlin(\"5+6=\"+addtion);\n",
    "<br>\n",
    "int subtraction=7-6;\n",
    "printlin(\"빼기\");\n",
    "printlin(\"7-6=\"+subtraction);\n",
    "<br>\n",
    "int division=7*8;\n",
    "printlin(\"곱하기\");\n",
    "printlin(\"7*8=\"+division);\n",
    "<br>\n",
    "int multiplication=24/6;\n",
    "printlin(\"나누기\");\n",
    "printlin(\"24/6=\"+multiplication);"
   ]
  },
  {
   "cell_type": "markdown",
   "id": "5cd85b50",
   "metadata": {},
   "source": [
    "### 대입연산자"
   ]
  },
  {
   "cell_type": "markdown",
   "id": "8df3b84b",
   "metadata": {},
   "source": [
    "### 비교연산자"
   ]
  }
 ],
 "metadata": {
  "language_info": {
   "name": "python"
  }
 },
 "nbformat": 4,
 "nbformat_minor": 5
}
